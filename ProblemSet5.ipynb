{
  "nbformat": 4,
  "nbformat_minor": 0,
  "metadata": {
    "colab": {
      "private_outputs": true,
      "provenance": []
    },
    "kernelspec": {
      "name": "python3",
      "display_name": "Python 3"
    }
  },
  "cells": [
    {
      "cell_type": "markdown",
      "metadata": {
        "id": "CcD_YoI4xiDU"
      },
      "source": [
        "# Colaboratory Assignment 4.1\n",
        "\n",
        "**Instructions**. Below you will find several text cells with programming (short) problems. You will create how many code cells you need to answer them.\n",
        "\n",
        "There are four problem, but you will only need to solve two. You **must** choose at least one of the problems with the title in <font color='#006633'>green</font>.\n",
        "\n",
        "\n",
        "**BEFORE YOU START**\n",
        "\n",
        "Complete the cell below with your name. Also, if you get an error when trying to use `networkx`'s function `adjacency_matrix()`, remember to uninstall `scipy` and `networkx` and then install the correct versions (`1.8` and `2.7`, respectively), as shown in the video in Blackboard (Lesson 3 content section)."
      ]
    },
    {
      "cell_type": "markdown",
      "metadata": {
        "id": "-ZBTtZ97B_ck"
      },
      "source": [
        "Christopher Bucsa"
      ]
    },
    {
      "cell_type": "markdown",
      "metadata": {
        "id": "oaxPufGLHGkm"
      },
      "source": [
        "## <font>3. Dolphins</font>\n",
        "\n",
        "Use the `dolphins` dataset in Blackboard to obtain its degree histogram. Save it as `DHk` and use it to obtain $n$, $m$, $\\langle k \\rangle$ and $\\rho$. Plot `DHk`"
      ]
    },
    {
      "cell_type": "code",
      "metadata": {
        "id": "JjRd4wzG9Rj7"
      },
      "source": [
        "import matplotlib.pyplot as plt\n",
        "import HkAnalysis as Hk\n",
        "from Readlist import readlist"
      ],
      "execution_count": null,
      "outputs": []
    },
    {
      "cell_type": "code",
      "source": [
        "Dolphins = readlist(\"Dolphins.txt\",0) # Create network from Dolphins dataset\n",
        "DHk = Hk.Hdeg(Dolphins) # Obtain degree histogram\n",
        "n = Hk.get_n(DHk) # Obtain number of nodes from network/dictionary\n",
        "m = Hk.get_m(DHk) # Obtain number of links from network/dictionary\n",
        "avg_k = Hk.avgk(DHk)\n",
        "p = Hk.rho(DHk)\n",
        "\n",
        "# Create Histogram\n",
        "plt.title(\"Degree Frequency in Dolphins Network\")\n",
        "plt.xlabel(\"k\")\n",
        "plt.ylabel(\"H(k)\")\n",
        "plt.plot(list(DHk.keys()), list(DHk.values()), \"o\")"
      ],
      "metadata": {
        "id": "WiLyC7xpC5Tu"
      },
      "execution_count": null,
      "outputs": []
    },
    {
      "cell_type": "markdown",
      "metadata": {
        "id": "eY_RJO0G9Vlb"
      },
      "source": [
        "## <font color='#006633'>4. Simulated Dolphins</font>\n",
        "\n",
        "In this problem, we will create a simulated network with the same $n$ and $m$ as the dolphins network. The steps to create the simulated data are:\n",
        "\n",
        "1. Create an empty undirected network `G`\n",
        "2. Use a `for` loop to create the same number of nodes as in the dolphins network.\n",
        "3. Use a nested `for` loop to create the same number of links as the dolphins network. An example for the code should look like this\n",
        "``` python\n",
        "for i in range(n - 1):\n",
        "    for j in range(i + 1, n):\n",
        "        if G.number_of_edges() < m:\n",
        "            G.add_edge(i, j)\n",
        "```\n",
        "Note that `m` is the number of links for the dolphins network.\n",
        "\n",
        "Now your network $G$ contains the same number of nodes and links as the Dolphins dataset. Create the histogram and save it as `GHk`\n",
        "\n",
        "Using the histogram `GHk`, show if there are differences between $\\langle k \\rangle$ and $\\rho$ for both networks. Now plot `GHk` using dots, does it look similar to `DHk`?"
      ]
    },
    {
      "cell_type": "code",
      "metadata": {
        "id": "SoOwauCO9WFd"
      },
      "source": [
        "import networkx as nx\n",
        "G = nx.Graph()\n",
        "for i in range(n-1):\n",
        "  for j in range(i+1,n):\n",
        "    if G.number_of_edges() < m:\n",
        "      G.add_edge(i,j)\n",
        "\n",
        "GHk = Hk.Hdeg(G)\n",
        "n2 = Hk.get_n(GHk) # Obtain number of nodes from network/dictionary\n",
        "m2 = Hk.get_m(GHk) # Obtain number of links from network/dictionary\n",
        "avg_k2 = Hk.avgk(GHk)\n",
        "p2 = Hk.rho(GHk)\n",
        "print(\"<k> of Dolphins: \", avg_k, \"<k> of new network: \" , avg_k2)\n",
        "print(\"density(p) of Dolphins: \", avg_k, \"density(p) of new network: \" , avg_k2)\n",
        "\n",
        "# Create plot\n",
        "plt.title(\"Degree Frequency in New Network\")\n",
        "plt.xlabel(\"k\")\n",
        "plt.ylabel(\"H(k)\")\n",
        "plt.plot(list(GHk.keys()), list(GHk.values()), \"o\")\n",
        "\n",
        "# Even though stat wise, the networks are very similar.  The plots look very different.  It just means that\n",
        "# The degrees were distributed differently."
      ],
      "execution_count": null,
      "outputs": []
    }
  ]
}