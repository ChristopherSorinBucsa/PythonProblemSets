{
  "nbformat": 4,
  "nbformat_minor": 0,
  "metadata": {
    "colab": {
      "private_outputs": true,
      "provenance": []
    },
    "kernelspec": {
      "name": "python3",
      "display_name": "Python 3"
    }
  },
  "cells": [
    {
      "cell_type": "markdown",
      "metadata": {
        "id": "CcD_YoI4xiDU"
      },
      "source": [
        "# Colaboratory Assignment 3.3\n",
        "\n",
        "**Instructions**. Below you will find several text cells with programming (short) problems. You will create how many code cells you need to answer them.\n",
        "\n",
        "There are four problem, but you will only need to solve two. You **must** choose at least one of the problems with the title in <font color='#006633'>green</font>.\n",
        "\n",
        "\n",
        "**BEFORE YOU START**\n",
        "\n",
        "Complete the cell below with your name. Also remember, if you get an error when trying to use `networkx`'s function `adjacency_matrix()`, remember to uninstall `scipy` and `networkx` and then install the correct versions (`1.8` and `2.7`, respectively), as shown in the video in Blackboard (Lesson 3 content section)."
      ]
    },
    {
      "cell_type": "markdown",
      "metadata": {
        "id": "-ZBTtZ97B_ck"
      },
      "source": [
        "Christopher Bucsa"
      ]
    },
    {
      "cell_type": "markdown",
      "metadata": {
        "id": "14UI9QAAG_0J"
      },
      "source": [
        "## <font color='#006633'>1. Airports network </font>\n",
        "\n",
        "This problem is intended for you to practice the use of the adjacency matrix to extract information from a network.\n",
        "\n",
        "Import the airports (`airline-net-und-2017.dat`) network and obtain the following quantities **using the adjacency matrix**. Check your results without using the adjacency matrix (i.e. with the bulit-in functions from `networkx`).\n",
        "\n",
        "1. $n$\n",
        "2. $m$\n",
        "4. $\\rho$"
      ]
    },
    {
      "cell_type": "code",
      "metadata": {
        "id": "KztrUZ4LG-V6"
      },
      "source": [
        "import networkx as nx # needed to create and manipulate networks\n",
        "from Readlist import readlist # import the readlist subroutine in order to read Airport data into a network\n",
        "\n",
        "G = readlist(\"Airports.txt\",0) # Create a network, we'll call G, using the provided dataset involving airports, skip 0 lines in data file"
      ],
      "execution_count": null,
      "outputs": []
    },
    {
      "cell_type": "code",
      "source": [
        "AG = nx.adjacency_matrix(G) # Create adjaceny matric passing the network we just created as an argument(G)\n",
        "AG = AG.toarray()\n",
        "n = 0 # Counter variable to count number of nodes(n) in matrix\n",
        "m = 0 # Counter variable to count the number of links in our network using adjacency matrix\n",
        "\n",
        "# Since an adjaceny matrix is size n x n, we know that the number of rows or columns in the matrix is the\n",
        "# total number of nodes in the network.  Therefore, we can just iterate through the matrix and add each row to the total count\n",
        "# to obtain the number of nodes (n) in the network\n",
        "\n",
        "for e in AG:\n",
        "  n = n + 1\n",
        "\n",
        "print(\"n, calculated using matrtix = \", n)\n",
        "print(\"n, calculated using networkx function = \", G.number_of_nodes())\n",
        "print(\"\\n\")\n",
        "\n",
        "# The number of links in a network can be calculated by adding up all the link indicators in the matrix that are on (having a value of 1),\n",
        "# If the indicator is \"on\", then we can add it to our sum/total (m).  We also need to divide m by 2 because adding all the \"on\" links\n",
        "# in the matrix includes the redundant links - a[i][j] = a[j][i], and we don't want that to equal m\n",
        "for e in range(n):\n",
        "  for e2 in range(n):\n",
        "    if AG[e][e2] > 0:\n",
        "      m = m + 1\n",
        "\n",
        "m = int(m / 2) # Casting to an int in order to make it easier to read\n",
        "\n",
        "print(\"m, calculated using matrix = \", m)\n",
        "print(\"m, calculated using networkx function = \", G.number_of_edges())\n",
        "print(\"\\n\")\n",
        "\n",
        "m_complete = ((n) * (n-1)) / 2\n",
        "density = m / m_complete\n",
        "\n",
        "print(\"p, using results n/m from matrix loops = \", density)\n",
        "print(\"p, using networkx function = \", nx.density(G))"
      ],
      "metadata": {
        "id": "npcp8pIpkCYu"
      },
      "execution_count": null,
      "outputs": []
    },
    {
      "cell_type": "markdown",
      "metadata": {
        "id": "_rQa7TmSHFh9"
      },
      "source": [
        "## 2. Airport in Santiago, Chile\n",
        "\n",
        "Use the network created in the previous problem to create an adjacency matrix and from it, calculate the degree of the Santiago International Airport (`SCL`)"
      ]
    },
    {
      "cell_type": "code",
      "metadata": {
        "id": "vna9X59AHBlj"
      },
      "source": [
        "\"?# First we can create a list containing all the nodes in the Airports network, this will be useful in helping\n",
        "# Us find the index of Santiago international airport\n",
        "Gnodes = list(G.nodes())\n",
        "print(\"Index number of Santiago International airport = \", Gnodes.index(\"SCL\")) # find out which index in the nodes list contains SCL - Santaigo International\n",
        "A2 = nx.adjacency_matrix(G) # Even though we can use matrix from part 1, we can also create anothe matrix using the same network from part 1\n",
        "A2 = A2.toarray() # Convert matrix to a uncompressed form.\n",
        "\n",
        "# Since we know what index SCL is located at, and we have already created an adjacency matrix of the network in problem 1,\n",
        "# we can simply add all the link indicators associated with that row in the matrix\n",
        "\n",
        "print(\"Degree of the Santiago International Airport(SCL) = \" , sum(A2[477])) # summing all the link indicators in the \"SCL\" node gives us the nodes degree.  The amount of links it has."
      ],
      "execution_count": null,
      "outputs": []
    }
  ]
}