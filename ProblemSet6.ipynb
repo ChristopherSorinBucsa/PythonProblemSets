{
  "nbformat": 4,
  "nbformat_minor": 0,
  "metadata": {
    "colab": {
      "private_outputs": true,
      "provenance": []
    },
    "kernelspec": {
      "name": "python3",
      "display_name": "Python 3"
    }
  },
  "cells": [
    {
      "cell_type": "markdown",
      "metadata": {
        "id": "CcD_YoI4xiDU"
      },
      "source": [
        "# Colaboratory Assignment 4.2\n",
        "\n",
        "**Instructions**. Below you will find several text cells with programming (short) problems. You can create how many code cells you need to answer them.\n",
        "\n",
        "There are four problems, but you will only need to solve two. You **must** choose at least one of the problems with the title in <font color='#006633'>green</font>.\n",
        "\n",
        "\n",
        "**BEFORE YOU START**\n",
        "\n",
        "Make sure to run the code cell below, to fix the adjacency matrix problem. Also, remember that the next code cell should be the first thing you evaluate. Otherwise, you will to restart your runtime and reimport `networkx`"
      ]
    },
    {
      "cell_type": "code",
      "source": [
        "!pip uninstall -q --yes scipy networkx && pip install -q scipy==1.8 networkx==2.7"
      ],
      "metadata": {
        "id": "mWohmsBbHXX-"
      },
      "execution_count": null,
      "outputs": []
    },
    {
      "cell_type": "markdown",
      "metadata": {
        "id": "L1WsjiJBVXnp"
      },
      "source": [
        "## <font color='#006633'>1. Drawing histograms</font>\n",
        "\n",
        "We did some drawing in the previous problem set. This lesson goes deeper into different ways to customize your plots to make them more informative. Because we want to create the optimal plots in terms of the amount of useful information they show, we will start with a big dataset.\n",
        "\n",
        "1. Import the `imdb` dataset. It contains information extracted from the [Internet Movie Database](https://www.imdb.com/), restricted only to actors and directors. A link is created when two people worked in the same movie. Note that it is a big file, so it may take a few seconds to load into colaboratory.\n",
        "2. Create a degree histogram, stored in a dictionary. (as usual)\n",
        "3. Draw it using the `hist` method from `matplotlib.pyplot`\n",
        "4. Draw the same histogram using the `bar` method from `matplotlib.pyplot`"
      ]
    },
    {
      "cell_type": "code",
      "metadata": {
        "id": "2DP5HZXHy8H6"
      },
      "source": [
        "import networkx as nx\n",
        "import matplotlib.pyplot as plt\n",
        "from Readlist import readlist\n"
      ],
      "execution_count": null,
      "outputs": []
    },
    {
      "cell_type": "code",
      "source": [
        "imdb = readlist(\"imdb.pkl\",0)\n",
        "imdb_H = {}\n",
        "for i in imdb.nodes():\n",
        "  k = imdb.degree(i)\n",
        "  imdb_H[k] = imdb_H.get(k,0) + 1\n",
        "\n",
        "plt.hist(imdb_H)\n",
        "plt.xlabel(\"k\")\n",
        "plt.ylabel(\"H(k)\")\n",
        "plt.show()\n",
        "\n",
        "plt.bar(list(imdb_H.keys()), list(imdb_H.values()))\n",
        "\n",
        "\n"
      ],
      "metadata": {
        "id": "ca5K4P0kMkSM"
      },
      "execution_count": null,
      "outputs": []
    },
    {
      "cell_type": "markdown",
      "metadata": {
        "id": "2DPlhMB2y8l5"
      },
      "source": [
        "## 2. What about dots?\n",
        "A histogram can also be plotted using dots. This is even more flexible in terms of the information you can show. However, be careful to use dots when you don't have much variance in the degrees.\n",
        "\n",
        "For this problem, create the degree histogram for the `imdb` network, which you already have as a dictionary (from the previous problem). Let's include some additional details. Make sure you use the `plot` method in `matplotlib.pyplot`:\n",
        "\n",
        "1. Add a title for the plot\n",
        "2. Put labels into both axes\n",
        "3. Use green dots\n",
        "4. Make the dots bigger than the default style.\n",
        "5. Plot the degree histogram again, this time using a logarithmic scale for both axes.\n",
        "\n",
        "If you're not sure how to make all these changes, you can start by looking at the [documentation](https://matplotlib.org/stable/tutorials/introductory/pyplot.html)"
      ]
    },
    {
      "cell_type": "code",
      "metadata": {
        "id": "f8rKCqOrzBWt"
      },
      "source": [
        "plt.plot(list(imdb_H.keys()), list(imdb_H.values()),\"go\")\n",
        "plt.title(\"Frequencies of Various Degrees in imdb network\")\n",
        "plt.xlabel(\"k\")\n",
        "plt.ylabel(\"H(k)\")"
      ],
      "execution_count": null,
      "outputs": []
    },
    {
      "cell_type": "code",
      "source": [
        "plt.plot(list(imdb_H.keys()), list(imdb_H.values()),\"go\")\n",
        "plt.xscale(\"log\");plt.yscale(\"log\")\n",
        "plt.title(\"Frequencies of Various Degrees in imdb network\")\n",
        "plt.xlabel(\"k\")\n",
        "plt.ylabel(\"H(k)\")"
      ],
      "metadata": {
        "id": "C7K-bO8YRJsa"
      },
      "execution_count": null,
      "outputs": []
    },
    {
      "cell_type": "markdown",
      "metadata": {
        "id": "wzT8moQzzB7Q"
      },
      "source": [
        "## 3. Plotting functions\n",
        "\n",
        "It is possible to identify when a series of data requires a logarithmic scale by looking at the function used to generate it. Evaluate the function below in the interval $[27, 115]$ (only use integers).\n",
        "\n",
        "$$f(x) = 3^{\\frac{x}{7}}$$\n",
        "\n",
        "Plot the result and choose the right scale for both axes."
      ]
    },
    {
      "cell_type": "code",
      "metadata": {
        "id": "Ol3LBHSvzJZU"
      },
      "source": [],
      "execution_count": null,
      "outputs": []
    },
    {
      "cell_type": "markdown",
      "metadata": {
        "id": "qVFfzXRtzTgm"
      },
      "source": [
        "## <font color='#006633'>4. Comparing Networks</font>\n",
        "\n",
        "There are different quantities we can use to compare two networks. This time we will focus on their degree histograms.\n",
        "\n",
        "Compare the Enron (ignore the first 4 rows) and Watergate networks. What are your conclusions just by looking at the plots?"
      ]
    },
    {
      "cell_type": "code",
      "metadata": {
        "id": "5eqzM5DkzVOx"
      },
      "source": [],
      "execution_count": null,
      "outputs": []
    }
  ]
}