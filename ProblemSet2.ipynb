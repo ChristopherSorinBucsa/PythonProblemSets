{
  "nbformat": 4,
  "nbformat_minor": 0,
  "metadata": {
    "colab": {
      "private_outputs": true,
      "provenance": []
    },
    "kernelspec": {
      "name": "python3",
      "display_name": "Python 3"
    }
  },
  "cells": [
    {
      "cell_type": "markdown",
      "metadata": {
        "id": "CcD_YoI4xiDU"
      },
      "source": [
        "# Colaboratory Assignment 3.1\n",
        "\n",
        "**Instructions**. Below you will find several text cells with programming (short) problems. You will create how many code cells you need to answer them.\n",
        "\n",
        "There are four problem, but you will only need to solve two. You **must** choose at least one of the problems with the title in <font color='#006633'>green</font>.\n",
        "\n",
        "**BEFORE YOU START**\n",
        "\n",
        "Complete the cell below with your name."
      ]
    },
    {
      "cell_type": "markdown",
      "metadata": {
        "id": "Db6jALp0ycRj"
      },
      "source": [
        "Christopher Bucsa\n"
      ]
    },
    {
      "cell_type": "markdown",
      "metadata": {
        "id": "zemI0ZtvA4Cw"
      },
      "source": [
        "## 1. Dolphins degrees\n",
        "\n",
        "Import the `dolphins` network from Blackboard, name the resulting network `D`, and store its degree information in a dictionary. Which node has the highest degree? Print a list if there is more than one."
      ]
    },
    {
      "cell_type": "code",
      "metadata": {
        "id": "IqMkNdubCa-w"
      },
      "source": [
        "import networkx as nx\n",
        "from readlist import readlist"
      ],
      "execution_count": null,
      "outputs": []
    },
    {
      "cell_type": "code",
      "source": [
        "D = readlist(\"dolphin.txt\",0)\n",
        "D.nodes() # Check import\n",
        "kD = D.degree() # Retrieve degree of each node from network)\n",
        "kD = dict(kD) # Create dictionary with keys(nodes) and values(degrees)\n",
        "\n",
        "# We now have two objects: a network(D) and a dictionary(kD).  Let's operate.\n",
        "\n",
        "# Now we need to find what the highest degree is in our network\n",
        "print(max(kD.values())) # Now know that the highest degree in network is 12, which node?\n",
        "\n",
        "# Look through nodes in network and see if value in dictionary at node \"e\" is equal to 12.  Print all elements with this degree.\n",
        "for e in D.nodes():\n",
        "  if kD[e] == 12:\n",
        "    print(\"The node(s) with the highest degree(12) from our data set is: \", e)\n"
      ],
      "metadata": {
        "id": "r_W3wWpYsB3c"
      },
      "execution_count": null,
      "outputs": []
    },
    {
      "cell_type": "markdown",
      "metadata": {
        "id": "zMPr8vUnM5lZ"
      },
      "source": [
        "##<font color='#006633'> 2. Network with a hub</font>\n",
        "\n",
        "Network $H$ has the node set $V(H) = \\{2,4,6,\\ldots,20\\}$. The degrees for all nodes can be summarized with:\n",
        "\n",
        "$$k_i = \\begin{cases} 9, & \\text{if } i = 2\\\\1, & \\text{otherwise} \\end{cases}$$\n",
        "\n",
        "1. Create network $H$ using `networkx`\n",
        "2. Using the link indicator function (`a()`), check that $k_2 = 9$\n"
      ]
    },
    {
      "cell_type": "code",
      "metadata": {
        "id": "Qi3mAa1AS10D"
      },
      "source": [
        "import networkx as nx"
      ],
      "execution_count": null,
      "outputs": []
    },
    {
      "cell_type": "code",
      "source": [
        "H = nx.Graph() # Create empty network, H\n",
        "\n",
        "# We know that there are 10 total nodes in the network, and that node \"2\" is connected to 9 of them.\n",
        "# Therefore, every node besides node \"2\" has 1 total link since this is an undirected simple network.\n",
        "H.add_edge(2,4)\n",
        "H.add_edge(2,6)\n",
        "H.add_edge(2,8)\n",
        "H.add_edge(2,10)\n",
        "H.add_edge(2,12)\n",
        "H.add_edge(2,14)\n",
        "H.add_edge(2,16)\n",
        "H.add_edge(2,18)\n",
        "H.add_edge(2,20)\n",
        "\n",
        "# Link indicator function that tells us if 2 nodes do or do not have a link.\n",
        "def a(G,i,j):\n",
        "  if G.has_edge(i,j):\n",
        "    return 1\n",
        "  else:\n",
        "    return 0\n",
        "\n",
        "# Create empty list to store all links of node \"2\" in network H.\n",
        "node2_links = []\n",
        "\n",
        "# Go through the list of nodes in H and check each node against node 2 to see if they have link. 1-Yes 0-no\n",
        "for e in H.nodes():\n",
        "  node2_links.append(a(H,2,e))\n",
        "\n",
        "# Shows all links that 2 has, and thus its degree. Add 1's to get total number, which is 9.\n",
        "print(node2_links)\n"
      ],
      "metadata": {
        "id": "Y97q3LQu8z5P"
      },
      "execution_count": null,
      "outputs": []
    }
  ]
}