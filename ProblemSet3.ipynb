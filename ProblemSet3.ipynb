{
  "nbformat": 4,
  "nbformat_minor": 0,
  "metadata": {
    "colab": {
      "private_outputs": true,
      "provenance": []
    },
    "kernelspec": {
      "name": "python3",
      "display_name": "Python 3"
    }
  },
  "cells": [
    {
      "cell_type": "markdown",
      "metadata": {
        "id": "CcD_YoI4xiDU"
      },
      "source": [
        "# Colaboratory Assignment 3.2\n",
        "\n",
        "**Instructions**. Below you will find several text cells with programming (short) problems. You will create how many code cells you need to answer them.\n",
        "\n",
        "There are four problem, but you will only need to solve two. You **must** choose at least one of the problems with the title in <font color='#006633'>green</font>.\n",
        "\n",
        "**BEFORE YOU START**\n",
        "\n",
        "Complete the cell below with your name."
      ]
    },
    {
      "cell_type": "markdown",
      "metadata": {
        "id": "-ZBTtZ97B_ck"
      },
      "source": [
        "Christopher Bucsa"
      ]
    },
    {
      "cell_type": "markdown",
      "source": [
        "## <font color='#ff0000'> 0. About the `Python` packages for this assignment </font>\n",
        "\n",
        "Depending on the version you have in your current colaboratory session, you may encounter some problems calculating adjacency matrices using `networkx`. If you get an error using the function `nx.adjacency_matrix()`, follow the steps below.\n",
        "\n",
        "1. In a new code cell, uninstall `scipy` and `networkx` with\n",
        "``` sh\n",
        "!pip uninstall scipy networkx\n",
        "```\n",
        "2. Reinstall a specific version of `scipy`, accepting all prompts.\n",
        "``` sh\n",
        "!pip install scipy==1.8\n",
        "```\n",
        "3. Reinstall a specific version of `networkx`\n",
        "``` sh\n",
        "!pip install networkx==2.7\n",
        "```\n",
        "\n",
        "Check that everything worked by importing `networkx`. When you print the version, you should get `2.7`\n",
        "\n",
        "``` python\n",
        "import networkx as nx\n",
        "nx.__version__\n",
        "```"
      ],
      "metadata": {
        "id": "OMVzz28RdEJv"
      }
    },
    {
      "cell_type": "markdown",
      "metadata": {
        "id": "Afl3RS2MUkO9"
      },
      "source": [
        "## <font color='#006633'> 1. Line networks </font>\n",
        "\n",
        "This problem uses a line network, which is a network model you shold know at this point in the semester.\n",
        "\n",
        "We know there are different ways to create line networks in `Python`, so for this particular problem, you will have to create one with  $n = 12$ using a `for` loop. Then, print the diagram of the resulting network."
      ]
    },
    {
      "cell_type": "code",
      "metadata": {
        "id": "0pDYV7gTTNr4"
      },
      "source": [
        "import networkx as nx"
      ],
      "execution_count": null,
      "outputs": []
    },
    {
      "cell_type": "code",
      "source": [
        "G = nx.Graph() # Create empty network G to work with first\n",
        "for e in range(1,13):\n",
        "  G.add_node(e) # Add nodes to network, 1 to 12\n",
        "  if e < 12: # Check that is is less that 12, we don't want to add a link after node 12\n",
        "    G.add_edge(e,e+1)\n",
        "\n",
        "print(nx.draw_networkx(G))"
      ],
      "metadata": {
        "id": "n-AKwkEEcu4i"
      },
      "execution_count": null,
      "outputs": []
    },
    {
      "cell_type": "markdown",
      "metadata": {
        "id": "OSFhk6PLVPCm"
      },
      "source": [
        "## 2. Adjacency Matrices in Python\n",
        "\n",
        "Use the network you created in the previous problem, to obtain its adjacency matrix both in its compressed (`Ac`) and uncompressed forms (`A`)"
      ]
    },
    {
      "cell_type": "code",
      "metadata": {
        "id": "q4BWbAOKYqeb"
      },
      "source": [
        "A = nx.adjacency_matrix(G) # obtain adjacency matrix of network in compressed form\n",
        "Ac = A.toarray() #.toarray() method uncompresses our matrix into a viewable form\n",
        "num_nodes = int(A.size ** 0.5)\n",
        "print(A.size)\n",
        "print(\"Adjacency matrix in compressed form:\\n\",A)\n",
        "print(\"Adjacency matrix in uncompresseed form:,\\n\",Ac)"
      ],
      "execution_count": null,
      "outputs": []
    }
  ]
}