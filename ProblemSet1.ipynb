{
  "nbformat": 4,
  "nbformat_minor": 0,
  "metadata": {
    "colab": {
      "private_outputs": true,
      "provenance": [],
      "include_colab_link": true
    },
    "kernelspec": {
      "name": "python3",
      "display_name": "Python 3"
    }
  },
  "cells": [
    {
      "cell_type": "markdown",
      "metadata": {
        "id": "view-in-github",
        "colab_type": "text"
      },
      "source": [
        "<a href=\"https://colab.research.google.com/github/ChristopherSorinBucsa/PythonProblemSets/blob/main/ProblemSet1.ipynb\" target=\"_parent\"><img src=\"https://colab.research.google.com/assets/colab-badge.svg\" alt=\"Open In Colab\"/></a>"
      ]
    },
    {
      "cell_type": "markdown",
      "source": [
        "Christopher Bucsa"
      ],
      "metadata": {
        "id": "JVC8ijj3Iqr3"
      }
    },
    {
      "cell_type": "markdown",
      "metadata": {
        "id": "CcD_YoI4xiDU"
      },
      "source": [
        "# Lesson 1 - Colaboratory Assignment\n",
        "**Instructions**. Below you will find several text cells with programming (short) problems. You will create how many code cells you need to answer them."
      ]
    },
    {
      "cell_type": "markdown",
      "metadata": {
        "id": "cteieuX_yq0y"
      },
      "source": [
        "## 1. Palindromes [4 points]\n",
        "\n",
        "A palindrome is a word or phrase that can be read from left to right or from right to left. This is an exercise intended to manipulate strings in `Python`. To do this, choose your favorite palindrom (you can browse [here](http://www.palindromelist.net/)) and save it as a `Python` object. Make sure that,\n",
        "\n",
        "1. Everything should be in lowercase. **Hint**: you can just paste the text and use the `lower()` method on strings.\n",
        "2. There are no spaces\n",
        "3. Create a dictionary that counts the number of ocurrences for each letter."
      ]
    },
    {
      "cell_type": "code",
      "source": [
        "word = list('anna')\n",
        "count = {}\n",
        "\n",
        "for char in word:\n",
        "    count[char] = count.get(char, 0) + 1\n",
        "\n",
        "print(count)"
      ],
      "metadata": {
        "id": "714oIT3YzZkH"
      },
      "execution_count": null,
      "outputs": []
    },
    {
      "cell_type": "markdown",
      "metadata": {
        "id": "Q5WtHS1EzgFD"
      },
      "source": [
        "## 2. Summation [2 points]\n",
        "\n",
        "Using loops and control flow statements, obtain the sum of multiples of 5 between 2048 and 5121. Save the result in the variable `sum_five`"
      ]
    },
    {
      "cell_type": "code",
      "metadata": {
        "id": "slAmctce0C83"
      },
      "source": [
        "numbers = list(range(2048,5122))\n",
        "sum_five = 0\n",
        "\n",
        "for i in numbers:\n",
        "    if i % 5 == 0:\n",
        "       sum_five = sum_five + i\n",
        "\n",
        "print(sum_five)"
      ],
      "execution_count": null,
      "outputs": []
    },
    {
      "cell_type": "markdown",
      "metadata": {
        "id": "tCB81vR40DrS"
      },
      "source": [
        "## 3. Binomial coefficients [4 points]\n",
        "\n",
        "Using a `for` loop, calculate $\\binom{c}{2}$, where $c$ is a variable that iterates through the integers from 25 to 100. Store your results in a dictionary with keys equal to $c$ and values equal to $\\binom{c}{2}$. Only use results with $\\binom{c}{2} \\leq 4000$"
      ]
    },
    {
      "cell_type": "code",
      "source": [
        "myDictionary = {}\n",
        "\n",
        "for c in range(25, 101):\n",
        "    result = (c * (c - 1)) // 2\n",
        "    if result <= 4000:\n",
        "        myDictionary[c] = result\n",
        "\n",
        "print(myDictionary)"
      ],
      "metadata": {
        "id": "qABaaK9vUySs"
      },
      "execution_count": null,
      "outputs": []
    }
  ]
}